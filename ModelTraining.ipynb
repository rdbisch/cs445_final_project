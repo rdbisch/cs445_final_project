{
 "cells": [
  {
   "cell_type": "code",
   "execution_count": 29,
   "metadata": {},
   "outputs": [],
   "source": [
    "from tensorflow import keras\n",
    "from tensorflow.keras import layers"
   ]
  },
  {
   "cell_type": "code",
   "execution_count": 94,
   "metadata": {},
   "outputs": [],
   "source": [
    "res = 24"
   ]
  },
  {
   "cell_type": "code",
   "execution_count": 95,
   "metadata": {},
   "outputs": [
    {
     "name": "stdout",
     "output_type": "stream",
     "text": [
      "Model: \"functional_13\"\n",
      "_________________________________________________________________\n",
      "Layer (type)                 Output Shape              Param #   \n",
      "=================================================================\n",
      "input_15 (InputLayer)        [(None, 24, 24, 3)]       0         \n",
      "_________________________________________________________________\n",
      "rescaling_6 (Rescaling)      (None, 24, 24, 3)         0         \n",
      "_________________________________________________________________\n",
      "flatten_6 (Flatten)          (None, 1728)              0         \n",
      "_________________________________________________________________\n",
      "dense_23 (Dense)             (None, 128)               221312    \n",
      "_________________________________________________________________\n",
      "dense_24 (Dense)             (None, 128)               16512     \n",
      "_________________________________________________________________\n",
      "dense_25 (Dense)             (None, 10)                1290      \n",
      "=================================================================\n",
      "Total params: 239,114\n",
      "Trainable params: 239,114\n",
      "Non-trainable params: 0\n",
      "_________________________________________________________________\n"
     ]
    }
   ],
   "source": [
    "import tensorflow as tf\n",
    "\n",
    "(x_train, y_train), (x_test, y_test) = keras.datasets.mnist.load_data()\n",
    "\n",
    "# Build a simple model\n",
    "inputs = keras.Input(shape=(res, res, 3))\n",
    "x = layers.experimental.preprocessing.Rescaling(1.0 / 255)(inputs)\n",
    "x = layers.Flatten()(x)\n",
    "x = layers.Dense(128, activation=\"relu\")(x)\n",
    "x = layers.Dense(128, activation=\"relu\")(x)\n",
    "outputs = layers.Dense(10, activation=\"softmax\")(x)\n",
    "model = keras.Model(inputs, outputs)\n",
    "model.summary()\n"
   ]
  },
  {
   "cell_type": "code",
   "execution_count": 112,
   "metadata": {},
   "outputs": [],
   "source": [
    "# This is just a copy of the simple MNIST tutorial\n",
    "# https://keras.io/examples/vision/mnist_convnet/\n",
    "model_terrain = keras.Sequential(\n",
    "    [\n",
    "        keras.Input(shape=(res, res, 3)),\n",
    "        layers.Conv2D(32, kernel_size=(3, 3), activation=\"relu\"),\n",
    "        layers.MaxPooling2D(pool_size=(2, 2)),\n",
    "        layers.Conv2D(64, kernel_size=(3, 3), activation=\"relu\"),\n",
    "        layers.MaxPooling2D(pool_size=(2, 2)),\n",
    "        layers.Flatten(),\n",
    "        layers.Dropout(0.5),\n",
    "        layers.Dense(8, activation=\"softmax\"),\n",
    "    ]\n",
    ")\n",
    "\n",
    "model_crowns = keras.Sequential(\n",
    "    [\n",
    "        keras.Input(shape=(res, res, 3)),\n",
    "        layers.Conv2D(32, kernel_size=(3, 3), activation=\"relu\"),\n",
    "        layers.MaxPooling2D(pool_size=(2, 2)),\n",
    "        layers.Conv2D(64, kernel_size=(3, 3), activation=\"relu\"),\n",
    "        layers.MaxPooling2D(pool_size=(2, 2)),\n",
    "        layers.Flatten(),\n",
    "        layers.Dropout(0.5),\n",
    "        layers.Dense(4, activation=\"softmax\"),\n",
    "    ]\n",
    ")\n"
   ]
  },
  {
   "cell_type": "code",
   "execution_count": 98,
   "metadata": {},
   "outputs": [],
   "source": [
    "import os\n",
    "import cv2\n",
    "import numpy as np\n",
    "\n",
    "N = 225\n",
    "noise_loops = 101\n",
    "\n",
    "training_x= np.zeros((4*noise_loops*N, res, res, 3))\n",
    "terrain_y = np.zeros(4*noise_loops*N)\n",
    "crowns_y = np.zeros(4*noise_loops*N)\n",
    "\n",
    "cnt = 0\n",
    "for file in os.listdir(\"training/\"):\n",
    "    tile = cv2.cvtColor(cv2.imread(\"training/\" + file), cv2.COLOR_BGR2RGB)\n",
    "    tile = cv2.resize(tile, (res, res))\n",
    "    label = file.split(\".\")[0].split(\"_\")\n",
    "\n",
    "    for k in range(4):\n",
    "        training_x[cnt] = tile\n",
    "        terrain_y[cnt] = int(label[2])\n",
    "        crowns_y[cnt] = int(label[3])\n",
    "        cnt = cnt + 1\n",
    "        \n",
    "        for j in range(noise_loops - 1):\n",
    "            tmp = tile.copy()\n",
    "            tmp = tmp + np.random.normal(0, 0.1, tmp.shape)\n",
    "            training_x[cnt] = tmp\n",
    "            terrain_y[cnt] = int(label[2])\n",
    "            crowns_y[cnt] = int(label[3])\n",
    "            cnt = cnt + 1\n",
    "\n",
    "        tile = np.rot90(tile)\n"
   ]
  },
  {
   "cell_type": "code",
   "execution_count": 124,
   "metadata": {},
   "outputs": [
    {
     "data": {
      "text/plain": [
       "Text(0.5, 1.0, '3.0')"
      ]
     },
     "execution_count": 124,
     "metadata": {},
     "output_type": "execute_result"
    },
    {
     "data": {
      "image/png": "[encoded data removed]",
      "text/plain": [
       "<Figure size 432x288 with 1 Axes>"
      ]
     },
     "metadata": {
      "needs_background": "light"
     },
     "output_type": "display_data"
    }
   ],
   "source": [
    "plt.imshow(training_x[12345].astype('uint8'))\n",
    "plt.title(terrain_y[12345])"
   ]
  },
  {
   "cell_type": "code",
   "execution_count": 138,
   "metadata": {},
   "outputs": [],
   "source": [
    "model_terrain.compile(\n",
    "    optimizer=keras.optimizers.RMSprop(),  # Optimizer\n",
    "    # Loss function to minimize\n",
    "    loss=keras.losses.SparseCategoricalCrossentropy(),\n",
    "    # List of metrics to monitor\n",
    "    metrics=[keras.metrics.SparseCategoricalAccuracy()],\n",
    ")\n",
    "\n",
    "model_crowns.compile(\n",
    "    optimizer=keras.optimizers.RMSprop(),  # Optimizer\n",
    "    # Loss function to minimize\n",
    "    loss=keras.losses.SparseCategoricalCrossentropy(),\n",
    "    # List of metrics to monitor\n",
    "    metrics=[keras.metrics.SparseCategoricalAccuracy()],\n",
    ")"
   ]
  },
  {
   "cell_type": "code",
   "execution_count": 139,
   "metadata": {
    "scrolled": true
   },
   "outputs": [
    {
     "name": "stdout",
     "output_type": "stream",
     "text": [
      "Fit model on training data\n",
      "Epoch 1/5\n",
      "1421/1421 [==============================] - 15s 11ms/step - loss: 0.4840 - sparse_categorical_accuracy: 0.9371 - val_loss: 4.2091e-07 - val_sparse_categorical_accuracy: 1.0000\n",
      "Epoch 2/5\n",
      "1421/1421 [==============================] - 15s 10ms/step - loss: 0.1141 - sparse_categorical_accuracy: 0.9912 - val_loss: 1.7337e-09 - val_sparse_categorical_accuracy: 1.0000\n",
      "Epoch 3/5\n",
      "1421/1421 [==============================] - 15s 10ms/step - loss: 0.1145 - sparse_categorical_accuracy: 0.9939 - val_loss: 0.0000e+00 - val_sparse_categorical_accuracy: 1.0000\n",
      "Epoch 4/5\n",
      "1421/1421 [==============================] - 15s 10ms/step - loss: 0.0911 - sparse_categorical_accuracy: 0.9958 - val_loss: 0.0000e+00 - val_sparse_categorical_accuracy: 1.0000\n",
      "Epoch 5/5\n",
      "1421/1421 [==============================] - 15s 10ms/step - loss: 0.1054 - sparse_categorical_accuracy: 0.9956 - val_loss: 0.0000e+00 - val_sparse_categorical_accuracy: 1.0000\n"
     ]
    }
   ],
   "source": [
    "print(\"Fit model on training data\")\n",
    "history = model_terrain.fit(\n",
    "    training_x,\n",
    "    terrain_y,\n",
    "    batch_size=64,\n",
    "    epochs=5,\n",
    "    # We pass some validation for\n",
    "    # monitoring validation loss and metrics\n",
    "    # at the end of each epoch\n",
    "    validation_data=(training_x, terrain_y),\n",
    ")"
   ]
  },
  {
   "cell_type": "code",
   "execution_count": 140,
   "metadata": {},
   "outputs": [],
   "source": [
    "predictions = model_terrain.predict(training_x)"
   ]
  },
  {
   "cell_type": "code",
   "execution_count": 141,
   "metadata": {},
   "outputs": [
    {
     "name": "stdout",
     "output_type": "stream",
     "text": [
      "2841/2841 [==============================] - 5s 2ms/step - loss: 0.0000e+00 - sparse_categorical_accuracy: 1.0000\n"
     ]
    }
   ],
   "source": [
    "score = model_terrain.evaluate(training_x, terrain_y, verbose=1)\n"
   ]
  },
  {
   "cell_type": "code",
   "execution_count": 142,
   "metadata": {},
   "outputs": [
    {
     "data": {
      "text/plain": [
       "[0.0, 1.0]"
      ]
     },
     "execution_count": 142,
     "metadata": {},
     "output_type": "execute_result"
    }
   ],
   "source": [
    "score"
   ]
  },
  {
   "cell_type": "code",
   "execution_count": 143,
   "metadata": {},
   "outputs": [
    {
     "data": {
      "text/plain": [
       "(array([20200, 14544, 16160, 22220, 10504,  2828,  3636,   808]),\n",
       " array([0, 1, 2, 3, 4, 5, 6, 7, 8]))"
      ]
     },
     "execution_count": 143,
     "metadata": {},
     "output_type": "execute_result"
    }
   ],
   "source": [
    "np.histogram(terrain_y, bins=[0,1,2,3,4,5,6,7,8])"
   ]
  },
  {
   "cell_type": "code",
   "execution_count": 144,
   "metadata": {},
   "outputs": [
    {
     "data": {
      "text/plain": [
       "array([[0., 0., 0., 0., 1., 0., 0., 0.]], dtype=float32)"
      ]
     },
     "execution_count": 144,
     "metadata": {},
     "output_type": "execute_result"
    },
    {
     "data": {
      "image/png": "[encoded data removed]",
      "text/plain": [
       "<Figure size 432x288 with 1 Axes>"
      ]
     },
     "metadata": {
      "needs_background": "light"
     },
     "output_type": "display_data"
    }
   ],
   "source": [
    "import matplotlib.pyplot as plt\n",
    "\n",
    "plt.imshow(training_x[525].astype('uint8'))\n",
    "model_terrain.predict(training_x[525:526])"
   ]
  },
  {
   "cell_type": "code",
   "execution_count": 145,
   "metadata": {},
   "outputs": [],
   "source": [
    "model_terrain.save(\"models/terrain_model.keras\")"
   ]
  },
  {
   "cell_type": "code",
   "execution_count": 126,
   "metadata": {},
   "outputs": [
    {
     "data": {
      "text/plain": [
       "array([[[176., 131.,  55.],\n",
       "        [188., 157.,  98.],\n",
       "        [189., 157.,  99.],\n",
       "        ...,\n",
       "        [174., 150., 114.],\n",
       "        [131., 106.,  76.],\n",
       "        [128.,  90.,  59.]],\n",
       "\n",
       "       [[184., 146.,  82.],\n",
       "        [183., 147.,  85.],\n",
       "        [188., 156.,  94.],\n",
       "        ...,\n",
       "        [152., 113.,  87.],\n",
       "        [161., 126.,  87.],\n",
       "        [100.,  59.,  32.]],\n",
       "\n",
       "       [[182., 139.,  69.],\n",
       "        [128.,  90.,  42.],\n",
       "        [149., 108.,  66.],\n",
       "        ...,\n",
       "        [105.,  59.,  33.],\n",
       "        [173., 144., 103.],\n",
       "        [109.,  71.,  43.]],\n",
       "\n",
       "       ...,\n",
       "\n",
       "       [[168., 115.,  29.],\n",
       "        [180., 136.,  72.],\n",
       "        [177., 137.,  76.],\n",
       "        ...,\n",
       "        [172., 130.,  76.],\n",
       "        [178., 141.,  84.],\n",
       "        [ 36.,   9.,   5.]],\n",
       "\n",
       "       [[177., 119.,  36.],\n",
       "        [191., 152.,  89.],\n",
       "        [181., 142.,  79.],\n",
       "        ...,\n",
       "        [178., 142.,  80.],\n",
       "        [167., 132.,  80.],\n",
       "        [ 23.,  11.,   6.]],\n",
       "\n",
       "       [[167., 173.,  56.],\n",
       "        [162., 172.,  49.],\n",
       "        [173., 182.,  59.],\n",
       "        ...,\n",
       "        [216., 222., 130.],\n",
       "        [193., 197., 120.],\n",
       "        [ 23.,   5.,   1.]]])"
      ]
     },
     "execution_count": 126,
     "metadata": {},
     "output_type": "execute_result"
    }
   ],
   "source": [
    "training_x[0]"
   ]
  },
  {
   "cell_type": "code",
   "execution_count": 115,
   "metadata": {},
   "outputs": [
    {
     "name": "stdout",
     "output_type": "stream",
     "text": [
      "Fit model on training data\n",
      "Epoch 1/5\n",
      "1421/1421 [==============================] - 15s 10ms/step - loss: 0.4637 - sparse_categorical_accuracy: 0.9299 - val_loss: 0.0017 - val_sparse_categorical_accuracy: 0.9989\n",
      "Epoch 2/5\n",
      "1421/1421 [==============================] - 14s 10ms/step - loss: 0.0486 - sparse_categorical_accuracy: 0.9903 - val_loss: 4.1355e-05 - val_sparse_categorical_accuracy: 1.0000\n",
      "Epoch 3/5\n",
      "1421/1421 [==============================] - 14s 10ms/step - loss: 0.0458 - sparse_categorical_accuracy: 0.9939 - val_loss: 1.7523e-07 - val_sparse_categorical_accuracy: 1.0000\n",
      "Epoch 4/5\n",
      "1421/1421 [==============================] - 14s 10ms/step - loss: 0.0435 - sparse_categorical_accuracy: 0.9953 - val_loss: 0.0000e+00 - val_sparse_categorical_accuracy: 1.0000\n",
      "Epoch 5/5\n",
      "1421/1421 [==============================] - 14s 10ms/step - loss: 0.0349 - sparse_categorical_accuracy: 0.9962 - val_loss: 8.2227e-10 - val_sparse_categorical_accuracy: 1.0000\n"
     ]
    }
   ],
   "source": [
    "print(\"Fit model on training data\")\n",
    "history = model_crowns.fit(\n",
    "    training_x,\n",
    "    crowns_y,\n",
    "    batch_size=64,\n",
    "    epochs=5,\n",
    "    # We pass some validation for\n",
    "    # monitoring validation loss and metrics\n",
    "    # at the end of each epoch\n",
    "    validation_data=(training_x, crowns_y),\n",
    ")"
   ]
  },
  {
   "cell_type": "code",
   "execution_count": 117,
   "metadata": {},
   "outputs": [
    {
     "data": {
      "text/plain": [
       "array([[5.6447051e-20, 1.6039378e-15, 1.0000000e+00, 5.7958633e-31]],\n",
       "      dtype=float32)"
      ]
     },
     "execution_count": 117,
     "metadata": {},
     "output_type": "execute_result"
    },
    {
     "data": {
      "image/png": "[encoded data removed]",
      "text/plain": [
       "<Figure size 432x288 with 1 Axes>"
      ]
     },
     "metadata": {
      "needs_background": "light"
     },
     "output_type": "display_data"
    }
   ],
   "source": [
    "plt.imshow(training_x[525].astype('uint8'))\n",
    "model_crowns.predict(training_x[525:526])"
   ]
  },
  {
   "cell_type": "code",
   "execution_count": 118,
   "metadata": {},
   "outputs": [
    {
     "data": {
      "text/plain": [
       "array([[1., 0., 0., 0.]], dtype=float32)"
      ]
     },
     "execution_count": 118,
     "metadata": {},
     "output_type": "execute_result"
    },
    {
     "data": {
      "image/png": "[encoded data removed]",
      "text/plain": [
       "<Figure size 432x288 with 1 Axes>"
      ]
     },
     "metadata": {
      "needs_background": "light"
     },
     "output_type": "display_data"
    }
   ],
   "source": [
    "plt.imshow(training_x[12500].astype('uint8'))\n",
    "model_crowns.predict(training_x[12500:12501])"
   ]
  },
  {
   "cell_type": "code",
   "execution_count": 120,
   "metadata": {},
   "outputs": [],
   "source": [
    "model_crowns.save(\"models/crowns_model.keras\")"
   ]
  },
  {
   "cell_type": "code",
   "execution_count": 121,
   "metadata": {},
   "outputs": [
    {
     "data": {
      "text/plain": [
       "(90900, 24, 24, 3)"
      ]
     },
     "execution_count": 121,
     "metadata": {},
     "output_type": "execute_result"
    }
   ],
   "source": [
    "training_x.shape"
   ]
  },
  {
   "cell_type": "code",
   "execution_count": 122,
   "metadata": {},
   "outputs": [
    {
     "data": {
      "text/plain": [
       "dtype('float64')"
      ]
     },
     "execution_count": 122,
     "metadata": {},
     "output_type": "execute_result"
    }
   ],
   "source": [
    "training_x.dtype"
   ]
  },
  {
   "cell_type": "code",
   "execution_count": null,
   "metadata": {},
   "outputs": [],
   "source": []
  }
 ],
 "metadata": {
  "kernelspec": {
   "display_name": "Python 3",
   "language": "python",
   "name": "python3"
  },
  "language_info": {
   "codemirror_mode": {
    "name": "ipython",
    "version": 3
   },
   "file_extension": ".py",
   "mimetype": "text/x-python",
   "name": "python",
   "nbconvert_exporter": "python",
   "pygments_lexer": "ipython3",
   "version": "3.8.5"
  }
 },
 "nbformat": 4,
 "nbformat_minor": 4
}
