{
 "cells": [
  {
   "cell_type": "code",
   "execution_count": 1,
   "metadata": {},
   "outputs": [],
   "source": [
    "from tensorflow import keras\n",
    "from tensorflow.keras import layers\n"
   ]
  },
  {
   "cell_type": "code",
   "execution_count": 2,
   "metadata": {},
   "outputs": [],
   "source": [
    "res = 24"
   ]
  },
  {
   "cell_type": "code",
   "execution_count": 3,
   "metadata": {},
   "outputs": [],
   "source": [
    "# This is just a copy of the simple MNIST tutorial\n",
    "# https://keras.io/examples/vision/mnist_convnet/\n",
    "model_terrain = keras.Sequential(\n",
    "    [\n",
    "        keras.Input(shape=(res, res, 3)),\n",
    "        layers.Conv2D(32, kernel_size=(3, 3), activation=\"relu\"),\n",
    "        layers.MaxPooling2D(pool_size=(2, 2)),\n",
    "        layers.Conv2D(64, kernel_size=(3, 3), activation=\"relu\"),\n",
    "        layers.MaxPooling2D(pool_size=(2, 2)),\n",
    "        layers.Flatten(),\n",
    "        layers.Dropout(0.5),\n",
    "        layers.Dense(8, activation=\"softmax\"),\n",
    "    ]\n",
    ")\n",
    "\n",
    "model_crowns = keras.Sequential(\n",
    "    [\n",
    "        keras.Input(shape=(res, res, 3)),\n",
    "        layers.Conv2D(32, kernel_size=(3, 3), activation=\"relu\"),\n",
    "        layers.MaxPooling2D(pool_size=(2, 2)),\n",
    "        layers.Conv2D(64, kernel_size=(3, 3), activation=\"relu\"),\n",
    "        layers.MaxPooling2D(pool_size=(2, 2)),\n",
    "        layers.Flatten(),\n",
    "        layers.Dropout(0.5),\n",
    "        layers.Dense(4, activation=\"softmax\"),\n",
    "    ]\n",
    ")\n"
   ]
  },
  {
   "cell_type": "code",
   "execution_count": 4,
   "metadata": {},
   "outputs": [],
   "source": [
    "import os\n",
    "import cv2\n",
    "import numpy as np\n",
    "import matplotlib.pyplot as plt\n",
    "N = 225\n",
    "noise_loops = 101\n",
    "\n",
    "training_x= np.zeros((4*noise_loops*N, res, res, 3))\n",
    "terrain_y = np.zeros(4*noise_loops*N)\n",
    "crowns_y = np.zeros(4*noise_loops*N)\n",
    "\n",
    "cnt = 0\n",
    "for file in os.listdir(\"training/\"):\n",
    "    tile = cv2.cvtColor(cv2.imread(\"training/\" + file), cv2.COLOR_BGR2RGB)\n",
    "    tile = cv2.resize(tile, (res, res))\n",
    "    label = file.split(\".\")[0].split(\"_\")\n",
    "\n",
    "    for k in range(4):\n",
    "        training_x[cnt] = tile\n",
    "        terrain_y[cnt] = int(label[2])\n",
    "        crowns_y[cnt] = int(label[3])\n",
    "        cnt = cnt + 1\n",
    "        \n",
    "        for j in range(noise_loops - 1):\n",
    "            tmp = tile.copy()\n",
    "            tmp = tmp + np.random.normal(0, 0.1, tmp.shape)\n",
    "            training_x[cnt] = tmp\n",
    "            terrain_y[cnt] = int(label[2])\n",
    "            crowns_y[cnt] = int(label[3])\n",
    "            cnt = cnt + 1\n",
    "\n",
    "        tile = np.rot90(tile)\n"
   ]
  },
  {
   "cell_type": "code",
   "execution_count": 5,
   "metadata": {},
   "outputs": [
    {
     "data": {
      "text/plain": [
       "Text(0.5, 1.0, '1.0')"
      ]
     },
     "execution_count": 5,
     "metadata": {},
     "output_type": "execute_result"
    },
    {
     "data": {
      "image/png": "[encoded data removed]",
      "text/plain": [
       "<Figure size 432x288 with 1 Axes>"
      ]
     },
     "metadata": {
      "needs_background": "light"
     },
     "output_type": "display_data"
    }
   ],
   "source": [
    "plt.imshow(training_x[12345].astype('uint8'))\n",
    "plt.title(terrain_y[12345])"
   ]
  },
  {
   "cell_type": "code",
   "execution_count": 6,
   "metadata": {},
   "outputs": [],
   "source": [
    "model_terrain.compile(\n",
    "    optimizer=keras.optimizers.RMSprop(),  # Optimizer\n",
    "    # Loss function to minimize\n",
    "    loss=keras.losses.SparseCategoricalCrossentropy(),\n",
    "    # List of metrics to monitor\n",
    "    metrics=[keras.metrics.SparseCategoricalAccuracy()],\n",
    ")\n",
    "\n",
    "model_crowns.compile(\n",
    "    optimizer=keras.optimizers.RMSprop(),  # Optimizer\n",
    "    # Loss function to minimize\n",
    "    loss=keras.losses.SparseCategoricalCrossentropy(),\n",
    "    # List of metrics to monitor\n",
    "    metrics=[keras.metrics.SparseCategoricalAccuracy()],\n",
    ")"
   ]
  },
  {
   "cell_type": "code",
   "execution_count": 7,
   "metadata": {
    "scrolled": true
   },
   "outputs": [
    {
     "name": "stdout",
     "output_type": "stream",
     "text": [
      "Fit model on training data\n",
      "Epoch 1/5\n",
      "1421/1421 [==============================] - 16s 11ms/step - loss: 0.3372 - sparse_categorical_accuracy: 0.9651 - val_loss: 1.2782e-07 - val_sparse_categorical_accuracy: 1.0000\n",
      "Epoch 2/5\n",
      "1421/1421 [==============================] - 15s 11ms/step - loss: 0.0657 - sparse_categorical_accuracy: 0.9948 - val_loss: 0.0049 - val_sparse_categorical_accuracy: 0.9989\n",
      "Epoch 3/5\n",
      "1421/1421 [==============================] - 15s 11ms/step - loss: 0.0626 - sparse_categorical_accuracy: 0.9958 - val_loss: 0.0000e+00 - val_sparse_categorical_accuracy: 1.0000\n",
      "Epoch 4/5\n",
      "1421/1421 [==============================] - 15s 11ms/step - loss: 0.0785 - sparse_categorical_accuracy: 0.9966 - val_loss: 0.0000e+00 - val_sparse_categorical_accuracy: 1.0000\n",
      "Epoch 5/5\n",
      "1421/1421 [==============================] - 15s 10ms/step - loss: 0.0494 - sparse_categorical_accuracy: 0.9972 - val_loss: 0.0000e+00 - val_sparse_categorical_accuracy: 1.0000\n"
     ]
    }
   ],
   "source": [
    "print(\"Fit model on training data\")\n",
    "history = model_terrain.fit(\n",
    "    training_x,\n",
    "    terrain_y,\n",
    "    batch_size=64,\n",
    "    epochs=5,\n",
    "    # We pass some validation for\n",
    "    # monitoring validation loss and metrics\n",
    "    # at the end of each epoch\n",
    "    validation_data=(training_x, terrain_y),\n",
    ")"
   ]
  },
  {
   "cell_type": "code",
   "execution_count": 8,
   "metadata": {},
   "outputs": [
    {
     "name": "stdout",
     "output_type": "stream",
     "text": [
      "2841/2841 [==============================] - 5s 2ms/step - loss: 0.0000e+00 - sparse_categorical_accuracy: 1.0000\n"
     ]
    }
   ],
   "source": [
    "score = model_terrain.evaluate(training_x, terrain_y, verbose=1)\n"
   ]
  },
  {
   "cell_type": "code",
   "execution_count": 9,
   "metadata": {},
   "outputs": [
    {
     "data": {
      "text/plain": [
       "array([[0., 0., 0., 0., 1., 0., 0., 0.]], dtype=float32)"
      ]
     },
     "execution_count": 9,
     "metadata": {},
     "output_type": "execute_result"
    },
    {
     "data": {
      "image/png": "[encoded data removed]",
      "text/plain": [
       "<Figure size 432x288 with 1 Axes>"
      ]
     },
     "metadata": {
      "needs_background": "light"
     },
     "output_type": "display_data"
    }
   ],
   "source": [
    "import matplotlib.pyplot as plt\n",
    "\n",
    "plt.imshow(training_x[525].astype('uint8'))\n",
    "model_terrain.predict(training_x[525:526])"
   ]
  },
  {
   "cell_type": "code",
   "execution_count": 10,
   "metadata": {},
   "outputs": [],
   "source": [
    "model_terrain.save(\"models/terrain_model.keras\")"
   ]
  },
  {
   "cell_type": "code",
   "execution_count": 11,
   "metadata": {},
   "outputs": [
    {
     "name": "stdout",
     "output_type": "stream",
     "text": [
      "Fit model on training data\n",
      "Epoch 1/5\n",
      "1421/1421 [==============================] - 16s 11ms/step - loss: 0.3508 - sparse_categorical_accuracy: 0.9461 - val_loss: 0.0202 - val_sparse_categorical_accuracy: 0.9911\n",
      "Epoch 2/5\n",
      "1421/1421 [==============================] - 15s 10ms/step - loss: 0.0596 - sparse_categorical_accuracy: 0.9906 - val_loss: 6.5871e-08 - val_sparse_categorical_accuracy: 1.0000\n",
      "Epoch 3/5\n",
      "1421/1421 [==============================] - 15s 10ms/step - loss: 0.0552 - sparse_categorical_accuracy: 0.9939 - val_loss: 1.2105e-09 - val_sparse_categorical_accuracy: 1.0000\n",
      "Epoch 4/5\n",
      "1421/1421 [==============================] - 15s 10ms/step - loss: 0.0494 - sparse_categorical_accuracy: 0.9958 - val_loss: 3.5287e-05 - val_sparse_categorical_accuracy: 1.0000\n",
      "Epoch 5/5\n",
      "1421/1421 [==============================] - 15s 10ms/step - loss: 0.0454 - sparse_categorical_accuracy: 0.9962 - val_loss: 2.5966e-10 - val_sparse_categorical_accuracy: 1.0000\n"
     ]
    }
   ],
   "source": [
    "print(\"Fit model on training data\")\n",
    "history = model_crowns.fit(\n",
    "    training_x,\n",
    "    crowns_y,\n",
    "    batch_size=64,\n",
    "    epochs=5,\n",
    "    # We pass some validation for\n",
    "    # monitoring validation loss and metrics\n",
    "    # at the end of each epoch\n",
    "    validation_data=(training_x, crowns_y),\n",
    ")"
   ]
  },
  {
   "cell_type": "code",
   "execution_count": 12,
   "metadata": {},
   "outputs": [
    {
     "data": {
      "text/plain": [
       "array([[0.0000000e+00, 1.9309024e-34, 1.0000000e+00, 0.0000000e+00]],\n",
       "      dtype=float32)"
      ]
     },
     "execution_count": 12,
     "metadata": {},
     "output_type": "execute_result"
    },
    {
     "data": {
      "image/png": "[encoded data removed]",
      "text/plain": [
       "<Figure size 432x288 with 1 Axes>"
      ]
     },
     "metadata": {
      "needs_background": "light"
     },
     "output_type": "display_data"
    }
   ],
   "source": [
    "plt.imshow(training_x[525].astype('uint8'))\n",
    "model_crowns.predict(training_x[525:526])"
   ]
  },
  {
   "cell_type": "code",
   "execution_count": 13,
   "metadata": {},
   "outputs": [
    {
     "data": {
      "text/plain": [
       "array([[1., 0., 0., 0.]], dtype=float32)"
      ]
     },
     "execution_count": 13,
     "metadata": {},
     "output_type": "execute_result"
    },
    {
     "data": {
      "image/png": "[encoded data removed]",
      "text/plain": [
       "<Figure size 432x288 with 1 Axes>"
      ]
     },
     "metadata": {
      "needs_background": "light"
     },
     "output_type": "display_data"
    }
   ],
   "source": [
    "plt.imshow(training_x[12500].astype('uint8'))\n",
    "model_crowns.predict(training_x[12500:12501])"
   ]
  },
  {
   "cell_type": "code",
   "execution_count": 14,
   "metadata": {},
   "outputs": [],
   "source": [
    "model_crowns.save(\"models/crowns_model.keras\")"
   ]
  }
 ],
 "metadata": {
  "kernelspec": {
   "display_name": "Python 3",
   "language": "python",
   "name": "python3"
  },
  "language_info": {
   "codemirror_mode": {
    "name": "ipython",
    "version": 3
   },
   "file_extension": ".py",
   "mimetype": "text/x-python",
   "name": "python",
   "nbconvert_exporter": "python",
   "pygments_lexer": "ipython3",
   "version": "3.8.5"
  }
 },
 "nbformat": 4,
 "nbformat_minor": 4
}
