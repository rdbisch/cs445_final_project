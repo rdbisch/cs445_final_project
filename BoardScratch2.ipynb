{
 "cells": [
  {
   "cell_type": "code",
   "execution_count": 22,
   "metadata": {},
   "outputs": [],
   "source": [
    "import os\n",
    "import cv2\n",
    "import numpy as np\n",
    "import matplotlib.pyplot as plt\n",
    "import scipy\n",
    "import time\n",
    "from scipy import ndimage\n",
    "from scipy.interpolate import griddata\n",
    "from IPython.display import display, Markdown, Latex\n",
    "\n",
    "%matplotlib inline"
   ]
  },
  {
   "cell_type": "code",
   "execution_count": 23,
   "metadata": {},
   "outputs": [],
   "source": [
    "import TileUtility\n",
    "HT = TileUtility.HalfTiles(TileUtility.FullTiles())"
   ]
  },
  {
   "cell_type": "code",
   "execution_count": 24,
   "metadata": {},
   "outputs": [],
   "source": [
    "# Takes a 5x5 array of terrains (0,1,2,3,4,5) and crowns (0, 1, 2, 3)\n",
    "#  and returns score per kingdomino rules\n",
    "#  size of each contiguous region as defined by orthogonal adjacency\n",
    "#   times the number of crowns within that region\n",
    "def scoreDomino(terrain, crowns):\n",
    "    visited = np.zeros((5,5), 'uint8')\n",
    "    score = []\n",
    "    \n",
    "    for I in range(25):\n",
    "        i, j = I // 5, I % 5\n",
    "    \n",
    "        # If we haven't seen this tile yet and it's an actual tile\n",
    "        # as opposed to the home tile or the table top\n",
    "        if visited[i, j] == 0 and terrain[i, j] >= 0 and terrain[i, j] < 6:\n",
    "            \n",
    "            # Add to the queue\n",
    "            queue = [(i, j)]\n",
    "            T = terrain[i, j]\n",
    "            C = 0  # Crowns\n",
    "            N = 0  # Tiles\n",
    "\n",
    "            # While the queue is not empty,\n",
    "            #  tally up the crowns and add other adjacent tiles\n",
    "            #  of the same terrain to the queue.\n",
    "            current = []\n",
    "            while len(queue) > 0:\n",
    "                x, y = queue.pop(0)\n",
    "                \n",
    "                # This is needed because the same tile could be added by multiple\n",
    "                # neighbors.  I can probably get rid of this with a rewrite..\n",
    "                if visited[x, y] == 1: continue\n",
    "\n",
    "                C = C + crowns[x, y]\n",
    "                N = N + 1\n",
    "                visited[x, y] = 1\n",
    "                current.append((x,y))\n",
    "\n",
    "                neighbors = [ (x - 1, y), (x + 1, y), (x, y - 1), (x, y + 1) ]\n",
    "                for xx, yy in neighbors:\n",
    "                    # Make the sure the tile is inbounds\n",
    "                    if (xx < 0 or xx > 4 or yy < 0 or yy > 4): continue\n",
    "                    # ...and it is the right terrain\n",
    "                    if terrain[xx, yy] != T: continue\n",
    "                    # ...and we haven't already visited it once\n",
    "                    if visited[xx, yy] == 1: continue\n",
    "                    queue.append((xx, yy))\n",
    "\n",
    "            score.append({\"tiles\": current, \"terrain\": TileUtility.itot(T), \"crowns\": C, \"numtiles\": N, \"total\": C*N})\n",
    "    return score\n",
    "\n",
    "def prettyPrintScore(score):   \n",
    "    row  = \"| Region | Tiles | Crowns | Subtotal | Tiles |\\n\"\n",
    "    row += \"| ---    | ---:   | ---:    | ---: | :---  |\\n\"\n",
    "    letters = \"ABCDE\"\n",
    "    subtotal = 0\n",
    "    for i, s in enumerate(score):\n",
    "        subtotal += s[\"total\"]\n",
    "        row = row + \"| \" + s[\"terrain\"] + \" | \" + str(s[\"numtiles\"]) + \" | \" + str(s[\"crowns\"])\n",
    "        row = row + \" | \" + str(s[\"total\"])  + \" | \"\n",
    "        \n",
    "        temp = \"\"\n",
    "        for t in s[\"tiles\"]:\n",
    "            temp += letters[t[1]] + str(t[0]) + \",\"\n",
    "        temp = temp[0:len(temp)-1]\n",
    "        row = row + temp + \" |\\n\"\n",
    "    row += \"| __Total__  | | | \" + str(subtotal) + \" | |\\n\"\n",
    "    return row"
   ]
  },
  {
   "cell_type": "code",
   "execution_count": null,
   "metadata": {
    "scrolled": false
   },
   "outputs": [
    {
     "data": {
      "text/markdown": [
       "# Score for Board 193745\n",
       "| Region | Tiles | Crowns | Subtotal | Tiles |\n",
       "| ---    | ---:   | ---:    | ---: | :---  |\n",
       "| swamp | 3 | 0 | 0 | A0,B0,C0 |\n",
       "| mine | 2 | 2 | 4 | D0,E0 |\n",
       "| desert | 7 | 2 | 14 | A1,B1,C1,D1,D2,E1,E2 |\n",
       "| grass | 1 | 1 | 1 | A2 |\n",
       "| ocean | 4 | 0 | 0 | B2,B3,B4,A3 |\n",
       "| forest | 6 | 2 | 12 | C2,C3,C4,D4,E4,E3 |\n",
       "| grass | 1 | 1 | 1 | A4 |\n",
       "| __Total__  | | | 32 | |\n"
      ],
      "text/plain": [
       "<IPython.core.display.Markdown object>"
      ]
     },
     "metadata": {},
     "output_type": "display_data"
    },
    {
     "name": "stdout",
     "output_type": "stream",
     "text": [
      "No labels for 135938\n"
     ]
    },
    {
     "data": {
      "text/markdown": [
       "# Score for Board 193730\n",
       "| Region | Tiles | Crowns | Subtotal | Tiles |\n",
       "| ---    | ---:   | ---:    | ---: | :---  |\n",
       "| grass | 1 | 2 | 2 | A0 |\n",
       "| desert | 4 | 1 | 4 | B0,C0,D0,E0 |\n",
       "| desert | 5 | 0 | 0 | A1,A2,A3,B2,A4 |\n",
       "| swamp | 3 | 1 | 3 | B1,C1,D1 |\n",
       "| ocean | 5 | 3 | 15 | E1,E2,E3,D2,D3 |\n",
       "| forest | 6 | 1 | 6 | B3,B4,C3,C4,D4,E4 |\n",
       "| __Total__  | | | 30 | |\n"
      ],
      "text/plain": [
       "<IPython.core.display.Markdown object>"
      ]
     },
     "metadata": {},
     "output_type": "display_data"
    },
    {
     "data": {
      "text/markdown": [
       "# Score for Board 195431\n",
       "| Region | Tiles | Crowns | Subtotal | Tiles |\n",
       "| ---    | ---:   | ---:    | ---: | :---  |\n",
       "| ocean | 9 | 3 | 27 | A0,A1,A2,A3,B3,C3,D3,D4,E3 |\n",
       "| desert | 2 | 0 | 0 | D0,E0 |\n",
       "| desert | 2 | 0 | 0 | B1,C1 |\n",
       "| swamp | 1 | 1 | 1 | D1 |\n",
       "| forest | 4 | 2 | 8 | E1,E2,D2,C2 |\n",
       "| desert | 2 | 0 | 0 | B4,C4 |\n",
       "| __Total__  | | | 36 | |\n"
      ],
      "text/plain": [
       "<IPython.core.display.Markdown object>"
      ]
     },
     "metadata": {},
     "output_type": "display_data"
    },
    {
     "name": "stdout",
     "output_type": "stream",
     "text": [
      "No labels for 134428\n",
      "No labels for 134434\n"
     ]
    },
    {
     "data": {
      "text/markdown": [
       "# Score for Board 193728\n",
       "| Region | Tiles | Crowns | Subtotal | Tiles |\n",
       "| ---    | ---:   | ---:    | ---: | :---  |\n",
       "| grass | 1 | 2 | 2 | A0 |\n",
       "| desert | 4 | 1 | 4 | B0,C0,D0,E0 |\n",
       "| desert | 5 | 0 | 0 | A1,A2,A3,B2,A4 |\n",
       "| swamp | 3 | 1 | 3 | B1,C1,D1 |\n",
       "| ocean | 5 | 3 | 15 | E1,E2,E3,D2,D3 |\n",
       "| forest | 6 | 1 | 6 | B3,B4,C3,C4,D4,E4 |\n",
       "| __Total__  | | | 30 | |\n"
      ],
      "text/plain": [
       "<IPython.core.display.Markdown object>"
      ]
     },
     "metadata": {},
     "output_type": "display_data"
    },
    {
     "name": "stdout",
     "output_type": "stream",
     "text": [
      "No labels for 140316\n"
     ]
    },
    {
     "data": {
      "text/markdown": [
       "# Score for Board 193747\n",
       "| Region | Tiles | Crowns | Subtotal | Tiles |\n",
       "| ---    | ---:   | ---:    | ---: | :---  |\n",
       "| swamp | 3 | 0 | 0 | A0,B0,C0 |\n",
       "| mine | 2 | 2 | 4 | D0,E0 |\n",
       "| desert | 7 | 2 | 14 | A1,B1,C1,D1,D2,E1,E2 |\n",
       "| grass | 1 | 1 | 1 | A2 |\n",
       "| ocean | 4 | 0 | 0 | B2,B3,B4,A3 |\n",
       "| forest | 6 | 2 | 12 | C2,C3,C4,D4,E4,E3 |\n",
       "| grass | 1 | 1 | 1 | A4 |\n",
       "| __Total__  | | | 32 | |\n"
      ],
      "text/plain": [
       "<IPython.core.display.Markdown object>"
      ]
     },
     "metadata": {},
     "output_type": "display_data"
    },
    {
     "name": "stdout",
     "output_type": "stream",
     "text": [
      "No labels for 135929\n",
      "No labels for 134443\n",
      "No labels for 134431\n"
     ]
    },
    {
     "data": {
      "text/markdown": [
       "# Score for Board 193734\n",
       "| Region | Tiles | Crowns | Subtotal | Tiles |\n",
       "| ---    | ---:   | ---:    | ---: | :---  |\n",
       "| grass | 1 | 2 | 2 | A0 |\n",
       "| desert | 4 | 1 | 4 | B0,C0,D0,E0 |\n",
       "| desert | 1 | 0 | 0 | A1 |\n",
       "| swamp | 9 | 1 | 9 | B1,B2,C1,B3,B4,C3,C4,D4,E4 |\n",
       "| ocean | 1 | 0 | 0 | D2 |\n",
       "| swamp | 1 | 1 | 1 | E2 |\n",
       "| grass | 2 | 2 | 4 | D3,E3 |\n",
       "| desert | 1 | 0 | 0 | A4 |\n",
       "| __Total__  | | | 20 | |\n"
      ],
      "text/plain": [
       "<IPython.core.display.Markdown object>"
      ]
     },
     "metadata": {},
     "output_type": "display_data"
    },
    {
     "name": "stdout",
     "output_type": "stream",
     "text": [
      "No labels for 134441\n"
     ]
    },
    {
     "data": {
      "text/markdown": [
       "# Score for Board 193743\n",
       "| Region | Tiles | Crowns | Subtotal | Tiles |\n",
       "| ---    | ---:   | ---:    | ---: | :---  |\n",
       "| swamp | 3 | 0 | 0 | A0,B0,C0 |\n",
       "| mine | 2 | 2 | 4 | D0,E0 |\n",
       "| desert | 7 | 2 | 14 | A1,B1,C1,D1,D2,E1,E2 |\n",
       "| grass | 1 | 1 | 1 | A2 |\n",
       "| ocean | 4 | 0 | 0 | B2,B3,B4,A3 |\n",
       "| forest | 2 | 2 | 4 | C2,C3 |\n",
       "| forest | 2 | 0 | 0 | E3,E4 |\n",
       "| grass | 1 | 1 | 1 | A4 |\n",
       "| swamp | 2 | 0 | 0 | C4,D4 |\n",
       "| __Total__  | | | 24 | |\n"
      ],
      "text/plain": [
       "<IPython.core.display.Markdown object>"
      ]
     },
     "metadata": {},
     "output_type": "display_data"
    }
   ],
   "source": [
    "# Some test data to work out the kinks.\n",
    "\n",
    "corners = {\n",
    "    \"195508\": [ (2568, 2769), (2074, 1984), (2975, 1686), (3750, 2294) ],\n",
    "    \"195451\": [ (1521, 672), (605, 1354), (1964, 2064), (2632, 1126)],\n",
    "    \"195443\": [ (322, 1373), (1547, 1646), (1956, 673), (931, 522)],\n",
    "    \"193723\": [ (958, 1805), (3176, 1730), (2702, 887), (1312, 920) ],\n",
    "    \"193726\": [ (102, 2437), (2549, 2204), (2213, 817), (593, 888) ],\n",
    "    \"193728\": [ (1671, 1962), (3600, 2242), (3064, 911), (1677, 499) ],\n",
    "    \"193743\": [ (2078, 1316), (3255, 1312), (3034, 697), (2099, 703) ],\n",
    "    \"195431\": [ (344, 2326), (2719, 1997), (2232, 732), (567, 795) ],\n",
    "    \"195506\": [ (491, 1677), (2185, 2115), (2656, 776), (1293, 617) ],    \n",
    "    \"193745\": [ (2326, 1232), (4038,1149), (3571, 133), (2242, 194)],\n",
    "    \"193730\": [ (685, 2102), (2520, 1714), (2367, 495), (1045, 888)],\n",
    "    \"193734\": [ (813, 2594), (2743, 2515), (2548, 830), (937, 859)],\n",
    "    \"193753\": [ (1239, 1730), (2255, 2718), (3271, 1693), (2201, 1094)],\n",
    "    \"195436\": [ (366, 1898), (1656, 1936), (1777, 852), (662, 850)],\n",
    "    \"193748\": [ (1788, 1540), (3120, 1528), (2879, 727), (1821, 722)],\n",
    "    \"193747\": [ (1111, 1879), (2928, 1809), (2656, 611), (1255, 627)],\n",
    "    \"195447\": [ (1251, 1962), (2540, 1834), (2259, 863), (1123, 875)],\n",
    "    \"193756\": [ (2065, 1160), (2846, 1065), (3424, 1677), (2532, 1859)],\n",
    "    \"193759\": [ (834, 2689), (3552, 2838), (3296, 545), (1189, 504)],\n",
    "    \"195439\": [ (950, 2284), (2693, 2094), (2354, 1024), (1049, 1090)]    \n",
    "}\n",
    "\n",
    "tile_res = 128\n",
    "\n",
    "for file in os.listdir('dev_images/'):\n",
    "    label = (file.split(\"_\")[1].split(\".\"))[0]\n",
    "    board = cv2.cvtColor(cv2.imread(\"dev_images/\" + file), cv2.COLOR_BGR2RGB)\n",
    "\n",
    "    if label not in corners:\n",
    "        print(\"No labels for {0}\".format(label))\n",
    "        continue\n",
    "    \n",
    "    dst = np.array([[0, 0], [5*tile_res - 1, 0], [5*tile_res - 1, 5*tile_res - 1], [0, 5*tile_res - 1]], dtype=\"float32\")\n",
    "    src = np.array([[s[0],s[1]] for s in corners[label]], dtype=\"float32\")\n",
    "\n",
    "    M = cv2.getPerspectiveTransform(src, dst)\n",
    "    warped = cv2.warpPerspective(board, M, (5*tile_res, 5*tile_res))\n",
    "    \n",
    "    plt.figure()\n",
    "    plt.title(label)\n",
    "    plt.imshow(warped)\n",
    "\n",
    "    terrain = np.zeros((5,5), 'uint8')\n",
    "    crowns = np.zeros((5,5), 'uint8')\n",
    "    tileCandidates = {}\n",
    "    \n",
    "    for i in range(5):\n",
    "        for j in range(5):\n",
    "            tile = warped[tile_res*i:tile_res*(i+1), tile_res*j:tile_res*(j+1)]\n",
    "            terrain[i,j] = HT.predictTerrain(tile)\n",
    "            crowns[i,j] = HT.predictCrowns(tile)\n",
    "    \n",
    "    score = scoreDomino(terrain, crowns)\n",
    "    markdown = prettyPrintScore(score)\n",
    "    markdown = \"# Score for Board \" + label + \"\\n\" + markdown\n",
    "    display(Markdown(markdown))\n"
   ]
  },
  {
   "cell_type": "code",
   "execution_count": 5,
   "metadata": {},
   "outputs": [
    {
     "data": {
      "text/plain": [
       "array([[0, 0, 0, 0, 0],\n",
       "       [3, 3, 3, 3, 3],\n",
       "       [3, 2, 6, 1, 1],\n",
       "       [3, 2, 2, 2, 0],\n",
       "       [3, 4, 4, 5, 5]], dtype=uint8)"
      ]
     },
     "execution_count": 5,
     "metadata": {},
     "output_type": "execute_result"
    }
   ],
   "source": [
    "terrain"
   ]
  },
  {
   "cell_type": "code",
   "execution_count": 6,
   "metadata": {
    "scrolled": true
   },
   "outputs": [
    {
     "data": {
      "text/plain": [
       "array([[0, 0, 0, 0, 0],\n",
       "       [0, 2, 0, 0, 1],\n",
       "       [2, 0, 0, 0, 0],\n",
       "       [1, 0, 0, 0, 0],\n",
       "       [0, 1, 0, 2, 3]], dtype=uint8)"
      ]
     },
     "execution_count": 6,
     "metadata": {},
     "output_type": "execute_result"
    }
   ],
   "source": [
    "crowns"
   ]
  },
  {
   "cell_type": "code",
   "execution_count": 7,
   "metadata": {},
   "outputs": [
    {
     "data": {
      "text/plain": [
       "<matplotlib.image.AxesImage at 0x7f6c886c3610>"
      ]
     },
     "execution_count": 7,
     "metadata": {},
     "output_type": "execute_result"
    },
    {
     "data": {
      "image/png": "[encoded data removed]",
      "text/plain": [
       "<Figure size 432x288 with 1 Axes>"
      ]
     },
     "metadata": {
      "needs_background": "light"
     },
     "output_type": "display_data"
    }
   ],
   "source": [
    "plt.imshow(warped)"
   ]
  },
  {
   "cell_type": "code",
   "execution_count": 8,
   "metadata": {},
   "outputs": [
    {
     "data": {
      "text/plain": [
       "array([[1., 0., 0., 0.]], dtype=float32)"
      ]
     },
     "execution_count": 8,
     "metadata": {},
     "output_type": "execute_result"
    }
   ],
   "source": [
    "i = 0\n",
    "j = 2\n",
    "test = warped[128*i:128*(i+1), 128*j:128*(j+1)]\n",
    "test = cv2.resize(test, (24, 24))\n",
    "test = np.expand_dims(test, axis = 0)\n",
    "\n",
    "HT.crowns_model.predict( test )"
   ]
  },
  {
   "cell_type": "code",
   "execution_count": 9,
   "metadata": {},
   "outputs": [
    {
     "data": {
      "text/markdown": [
       "|     | col0   | col1   | col2   | col3   | col4 |\n",
       "| --- | --- | --- | --- | --- | --- | \n",
       "| row 0 | (False, {('01', False), ('02', True), ('15', False), ('01', True), ('02', False)}) | (False, {('01', False), ('02', True), ('41', False), ('01', True), ('02', False)}) | (False, {('01', False), ('02', True), ('15', False), ('01', True), ('02', False)}) | (False, {('01', False), ('02', True), ('15', False), ('01', True), ('02', False)}) | (False, {('36', False)}) | \n",
       "| row 1 | (False, set()) | (False, {('42', True)}) | (False, {('11', False), ('11', True), ('10', False), ('10', True)}) | (False, {('18', True)}) | (False, set()) | \n",
       "| row 2 | (False, {('42', True)}) | (False, {('09', True), ('08', True), ('08', False), ('07', True), ('09', False), ('07', False)}) | (False, set()) | (False, {('05', False), ('04', False), ('17', False), ('06', True), ('03', True), ('03', False), ('06', False), ('04', True), ('05', True)}) | (False, {('13', True)}) | \n",
       "| row 3 | (False, {('37', True)}) | (False, {('09', True), ('08', True), ('08', False), ('07', True), ('09', False), ('07', False)}) | (False, {('09', True), ('08', True), ('08', False), ('07', True), ('09', False), ('07', False)}) | (False, {('14', True)}) | (False, {('48', False)}) | \n",
       "| row 4 | (False, {('39', False)}) | (False, set()) | (False, {('46', False), ('47', False)}) | (False, set()) | (False, set()) | \n"
      ],
      "text/plain": [
       "<IPython.core.display.Markdown object>"
      ]
     },
     "metadata": {},
     "output_type": "display_data"
    }
   ],
   "source": [
    "def tileIntersection(L, R):\n",
    "    if L is None or R is None: return set([])\n",
    "    return L.intersection(R)\n",
    "\n",
    "matches = [ [ (False, set([])) for j in range(5) ] for i in range(5) ]\n",
    "for i in range(5):\n",
    "    for j in range(5):        \n",
    "        T = terrain[i, j]\n",
    "        C = crowns[i, j]\n",
    "        \n",
    "        if (i < 4): down  = HT.tileCandidatesWithPair(T, C, terrain[i + 1, j], crowns[i + 1, j])\n",
    "        else: down = set([])\n",
    "            \n",
    "        if (j < 4): right = HT.tileCandidatesWithPair(T, C, terrain[i, j + 1], crowns[i, j + 1])\n",
    "        else: right = set([])\n",
    "            \n",
    "        for m in down:\n",
    "            matches[i][j][1].add(m)\n",
    "            #matches[i + 1][j][1].add(m)\n",
    "        for m in right:\n",
    "            matches[i][j][1].add(m)\n",
    "            #matches[i][j + 1][1].add(m)\n",
    "\n",
    "        #if (len(matches[i][j][1]) <= 1):           \n",
    "        #    if len(matches[i][j][1]) == 1:\n",
    "        #        R = next(iter(matches[i][j][1]))\n",
    "        #    else:\n",
    "        #        R = None\n",
    "        #    matches[i][j] = (True, R)\n",
    "\n",
    "            #for i in range(5):\n",
    "#    for j in range(5):\n",
    "#        matches[i][j] = list(matches[i][j])\n",
    "\n",
    "def debugMatches(matches):\n",
    "    row =       \"|     | col0   | col1   | col2   | col3   | col4 |\\n\"\n",
    "    row = row + \"| --- | --- | --- | --- | --- | --- | \\n\"\n",
    "    for i in range(5):\n",
    "        row = row + \"| \" + \"row \" + str(i) + \" | \"\n",
    "        for j in range(5):\n",
    "            row = row + str(matches[i][j])\n",
    "\n",
    "            row = row + \" | \"\n",
    "        row = row + \"\\n\"\n",
    "\n",
    "    display(Markdown(row))\n",
    "\n",
    "debugMatches(matches)"
   ]
  },
  {
   "cell_type": "code",
   "execution_count": 10,
   "metadata": {},
   "outputs": [],
   "source": [
    "import copy\n",
    "\n",
    "def fixMatch(matches, i, j, tile, iLeft):\n",
    "    result = copy.deepcopy(matches)\n",
    "    \n",
    "    print(\"i={0}, j={1} tile={2}, iLeft={3}\".format(i, j, tile, iLeft))\n",
    "    assert(result[i[0]][i[1]][0] == False)\n",
    "    assert(result[j[0]][j[1]][0] == False)\n",
    "    \n",
    "    if (iLeft):\n",
    "        leftTile = tile + \"_L\"\n",
    "        rightTile = tile + \"_R\"\n",
    "    else:\n",
    "        leftTile = tile + \"_R\"\n",
    "        rightTile = tile + \"_L\"\n",
    "    \n",
    "    for R in range(5):\n",
    "        for C in range(5):\n",
    "            if not result[R][C][0]:\n",
    "                if leftTile in result[R][C][1]: result[R][C][1].remove(leftTile)\n",
    "                if rightTile in result[R][C][1]: result[R][C][1].remove(rightTile)\n",
    "\n",
    "    result[i[0]][i[1]] = (True, leftTile)\n",
    "    result[j[0]][j[1]] = (True, rightTile)\n",
    "    \n",
    "    return result"
   ]
  },
  {
   "cell_type": "code",
   "execution_count": 11,
   "metadata": {},
   "outputs": [],
   "source": [
    "# Try to simplify matches by looking for cells with a single option \n",
    "# and then searching neighbors for match.   If there is only a single match\n",
    "#  that domino must be there.  Place it and remove other options.\n",
    "\n",
    "def simplifyTiles(matches):\n",
    "    for i in range(5):\n",
    "        for j in range(5):\n",
    "            if not matches[i][j][0] and len(matches[i][j][1]) == 1:\n",
    "                tile, side = next(iter(matches[i][j][1]))\n",
    "                if side == 'L': opp = 'R'\n",
    "                else: opp = 'L'\n",
    "\n",
    "                otile = (tile, opp)\n",
    "\n",
    "                #print(\"Found singleton at {0}, {1}, {2}.  Looking for {3}\".format(i, j, (tile, side), otile))\n",
    "\n",
    "                # Find neighbor tile\n",
    "                match = 0\n",
    "                #print(otile)\n",
    "                if j < 4: print(matches[i][j + 1])\n",
    "                if i > 0 and not matches[i - 1][j][0] and otile in matches[i - 1][j][1]: match += 8\n",
    "                if i < 4 and not matches[i + 1][j][0] and otile in matches[i + 1][j][1]: match += 4\n",
    "                if j > 0 and not matches[i][j - 1][0] and otile in matches[i][j - 1][1]: match += 2\n",
    "                if j < 4 and not matches[i][j + 1][0] and otile in matches[i][j + 1][1]: match += 1\n",
    "                #print(\"Otile {0} found {1}\".format(otile, match))\n",
    "\n",
    "                if match == 1:\n",
    "                    return True, fixMatch(matches, (i, j), (i, j + 1), tile, side == 'L')\n",
    "                elif match == 2:\n",
    "                    return True, fixMatch(matches, (i, j), (i, j - 1), tile, side == 'L')               \n",
    "                elif match == 4:\n",
    "                    return True, fixMatch(matches, (i, j), (i + 1, j), tile, side == 'L')\n",
    "                elif match == 8:\n",
    "                    return True, fixMatch(matches, (i, j), (i - 1, j), tile, side == 'L')\n",
    "    return False, matches"
   ]
  },
  {
   "cell_type": "code",
   "execution_count": 12,
   "metadata": {},
   "outputs": [
    {
     "name": "stdout",
     "output_type": "stream",
     "text": [
      "(False, {('11', False), ('11', True), ('10', False), ('10', True)})\n",
      "(False, set())\n",
      "(False, {('09', True), ('08', True), ('08', False), ('07', True), ('09', False), ('07', False)})\n",
      "(False, {('09', True), ('08', True), ('08', False), ('07', True), ('09', False), ('07', False)})\n",
      "(False, {('48', False)})\n",
      "(False, set())\n"
     ]
    }
   ],
   "source": [
    "nextIter = copy.deepcopy(matches)\n",
    "while True:\n",
    "    foundQ, nextIter = simplifyTiles(nextIter)\n",
    "    if not foundQ: break\n",
    "        "
   ]
  },
  {
   "cell_type": "code",
   "execution_count": 13,
   "metadata": {},
   "outputs": [
    {
     "data": {
      "text/markdown": [
       "|     | col0   | col1   | col2   | col3   | col4 |\n",
       "| --- | --- | --- | --- | --- | --- | \n",
       "| row 0 | (False, {('01', False), ('02', True), ('15', False), ('01', True), ('02', False)}) | (False, {('01', False), ('02', True), ('41', False), ('01', True), ('02', False)}) | (False, {('01', False), ('02', True), ('15', False), ('01', True), ('02', False)}) | (False, {('01', False), ('02', True), ('15', False), ('01', True), ('02', False)}) | (False, {('36', False)}) | \n",
       "| row 1 | (False, set()) | (False, {('42', True)}) | (False, {('11', False), ('11', True), ('10', False), ('10', True)}) | (False, {('18', True)}) | (False, set()) | \n",
       "| row 2 | (False, {('42', True)}) | (False, {('09', True), ('08', True), ('08', False), ('07', True), ('09', False), ('07', False)}) | (False, set()) | (False, {('05', False), ('04', False), ('17', False), ('06', True), ('03', True), ('03', False), ('06', False), ('04', True), ('05', True)}) | (False, {('13', True)}) | \n",
       "| row 3 | (False, {('37', True)}) | (False, {('09', True), ('08', True), ('08', False), ('07', True), ('09', False), ('07', False)}) | (False, {('09', True), ('08', True), ('08', False), ('07', True), ('09', False), ('07', False)}) | (False, {('14', True)}) | (False, {('48', False)}) | \n",
       "| row 4 | (False, {('39', False)}) | (False, set()) | (False, {('46', False), ('47', False)}) | (False, set()) | (False, set()) | \n"
      ],
      "text/plain": [
       "<IPython.core.display.Markdown object>"
      ]
     },
     "metadata": {},
     "output_type": "display_data"
    }
   ],
   "source": [
    "debugMatches(nextIter)"
   ]
  },
  {
   "cell_type": "code",
   "execution_count": 14,
   "metadata": {},
   "outputs": [
    {
     "ename": "IndentationError",
     "evalue": "expected an indented block (<ipython-input-14-4928ef4b5dce>, line 21)",
     "output_type": "error",
     "traceback": [
      "\u001b[0;36m  File \u001b[0;32m\"<ipython-input-14-4928ef4b5dce>\"\u001b[0;36m, line \u001b[0;32m21\u001b[0m\n\u001b[0;31m    def simplifyTiles2(matches):\u001b[0m\n\u001b[0m                                ^\u001b[0m\n\u001b[0;31mIndentationError\u001b[0m\u001b[0;31m:\u001b[0m expected an indented block\n"
     ]
    }
   ],
   "source": [
    "def oppTile(whichTile):\n",
    "    tile, side = whichTile\n",
    "    if side == 'L': opp = 'R'\n",
    "    else: opp = 'L'\n",
    "    return tile, opp\n",
    "\n",
    "def flipTiles(setOfTiles):\n",
    "    result = set([])\n",
    "    for s in setOfTiles:\n",
    "        result.add(oppTile(s))\n",
    "    return result\n",
    "\n",
    "def TileClass(setOfTiles):\n",
    "    if (len(setOfTiles) == 1): return next(iter(setOfTiles))\n",
    "    else:\n",
    "        # There are a few tiles that are duplicates but have seperate numbers\n",
    "        # This collapses them\n",
    "\n",
    "# Try to simplify matches by looking for cells that\n",
    "#  only have matches in one direction.\n",
    "def simplifyTiles2(matches):\n",
    "    for i in range(5):\n",
    "        for j in range(5):\n",
    "            if not matches[i][j][0]:\n",
    "                \n",
    "                # Do any of our tiles intersection with N? S? E? W?\n",
    "                mc = flipTiles(matches[i][j][1])\n",
    "                adj = [(i - 1, j), (i + 1, j), (i, j - 1), (i, j + 1)]\n",
    "                \n",
    "                match = 0\n",
    "                lastMatchDir = '?'\n",
    "                for nx, ny in adj:\n",
    "                    if nx < 0 or nx > 4 or ny < 0 or ny > 4: continue\n",
    "                    if matches[nx][ny][0]: continue\n",
    "                    if len(mc.intersection(matches[nx][ny][1])) > 0:\n",
    "                        match = match + 1\n",
    "                        lastMatchDir = (nx, ny)\n",
    "                \n",
    "                if match == 1:\n",
    "                    print(\"Found forced tile @ {0} with tile @ {1}\".format((i, j), lastMatchDir))\n",
    "                    nx, ny = lastMatchDir\n",
    "                    \n",
    "                    print(\"My    tiles {0}.\\nOther tiles {1}.\\nIntersect'n {2}\".format(\n",
    "                        matches[i][j][1],\n",
    "                        matches[nx][ny][1],\n",
    "                        flipTiles(matches[i][j][1]).intersection(matches[nx][ny][1])))\n",
    "                    \n",
    "                    T = matches[i][j][1]\n",
    "                    S = flipTiles(T).intersection(matches[nx][ny][1])\n",
    "                    matches[i][j] = (True, HT.TileClass(T))\n",
    "                    matches[nx][ny] = (True, HT.TileClass(S))\n",
    "               \n",
    "simplifyTiles2(nextIter)"
   ]
  },
  {
   "cell_type": "code",
   "execution_count": null,
   "metadata": {},
   "outputs": [],
   "source": [
    "img = board\n",
    "gray = cv2.cvtColor(img,cv2.COLOR_RGB2GRAY)\n",
    "edges = cv2.Canny(gray,25,50)\n",
    "plt.imshow(edges)"
   ]
  },
  {
   "cell_type": "code",
   "execution_count": null,
   "metadata": {},
   "outputs": [],
   "source": [
    "import cv2\n",
    "import numpy as np\n",
    "\n",
    "img = board\n",
    "gray = cv2.cvtColor(img,cv2.COLOR_RGB2GRAY)\n",
    "edges = cv2.Canny(gray,100,100,apertureSize = 3)\n",
    "\n",
    "lines = cv2.HoughLines(edges,1,np.pi/180,5)\n",
    "for rho,theta in lines[0]:\n",
    "    a = np.cos(theta)\n",
    "    b = np.sin(theta)\n",
    "    x0 = a*rho\n",
    "    y0 = b*rho\n",
    "    x1 = int(x0 + 1000*(-b))\n",
    "    y1 = int(y0 + 1000*(a))\n",
    "    x2 = int(x0 - 1000*(-b))\n",
    "    y2 = int(y0 - 1000*(a))\n",
    "    print(\"Found line {0}\".format((x1,y1,x2,y2)))\n",
    "\n",
    "    cv2.line(img,(x1,y1),(x2,y2),(0,0,255),2)\n",
    "\n",
    "plt.imshow(img)"
   ]
  },
  {
   "cell_type": "code",
   "execution_count": null,
   "metadata": {},
   "outputs": [],
   "source": [
    "?cv2.Canny"
   ]
  },
  {
   "cell_type": "code",
   "execution_count": null,
   "metadata": {},
   "outputs": [],
   "source": [
    "?cv2.HoughLines"
   ]
  },
  {
   "cell_type": "code",
   "execution_count": null,
   "metadata": {},
   "outputs": [],
   "source": [
    "plt.imshow(edges)"
   ]
  },
  {
   "cell_type": "code",
   "execution_count": null,
   "metadata": {
    "scrolled": false
   },
   "outputs": [],
   "source": [
    "import cv2\n",
    "import numpy as np\n",
    "\n",
    "img = board\n",
    "gray = cv2.cvtColor(img,cv2.COLOR_RGB2GRAY)\n",
    "edges = cv2.Canny(gray,50,150,apertureSize = 3)\n",
    "minLineLength = 500\n",
    "maxLineGap = 25\n",
    "lines = cv2.HoughLinesP(edges,1,np.pi/180,100,minLineLength,maxLineGap)\n",
    "print(lines)\n",
    "for [[x1,y1,x2,y2]] in lines:\n",
    "    img = cv2.line(img,(x1,y1),(x2,y2),(255,0,0),16)\n",
    "\n",
    "plt.imshow(img)"
   ]
  },
  {
   "cell_type": "code",
   "execution_count": null,
   "metadata": {},
   "outputs": [],
   "source": [
    "plt.imshow(board)"
   ]
  },
  {
   "cell_type": "code",
   "execution_count": null,
   "metadata": {},
   "outputs": [],
   "source": [
    "?cv2.line"
   ]
  },
  {
   "cell_type": "code",
   "execution_count": null,
   "metadata": {},
   "outputs": [],
   "source": [
    "Zero-parameter, automatic Canny edge detection with Python and OpenCV\n",
    "# construct the argument parse and parse the arguments\n",
    "ap = argparse.ArgumentParser()\n",
    "ap.add_argument(\"-i\", \"--images\", required=True,\n",
    "\thelp=\"path to input dataset of images\")\n",
    "args = vars(ap.parse_args())\n",
    "# loop over the images\n",
    "for imagePath in glob.glob(args[\"images\"] + \"/*.jpg\"):\n",
    "\t# load the image, convert it to grayscale, and blur it slightly\n",
    "\timage = cv2.imread(imagePath)\n",
    "\tgray = cv2.cvtColor(image, cv2.COLOR_BGR2GRAY)\n",
    "\tblurred = cv2.GaussianBlur(gray, (3, 3), 0)\n",
    "\t# apply Canny edge detection using a wide threshold, tight\n",
    "\t# threshold, and automatically determined threshold\n",
    "\twide = cv2.Canny(blurred, 10, 200)\n",
    "\ttight = cv2.Canny(blurred, 225, 250)\n",
    "\tauto = auto_canny(blurred)\n",
    "\t# show the images\n",
    "\tcv2.imshow(\"Original\", image)\n",
    "\tcv2.imshow(\"Edges\", np.hstack([wide, tight, auto]))\n",
    "\tcv2.waitKey(0)"
   ]
  },
  {
   "cell_type": "code",
   "execution_count": null,
   "metadata": {},
   "outputs": [],
   "source": [
    "def auto_canny(image, sigma=0.33):\n",
    "    # compute the median of the single channel pixel intensities\n",
    "    v = np.median(image)\n",
    "    # apply automatic Canny edge detection using the computed median\n",
    "    lower = int(max(0, (1.0 - sigma) * v))\n",
    "    upper = int(min(255, (1.0 + sigma) * v))\n",
    "    edged = cv2.Canny(image, lower, upper)\n",
    "    # return the edged image\n",
    "    return edged\n",
    "\n",
    "gray = cv2.cvtColor(img, cv2.COLOR_RGB2GRAY)\n",
    "blurred = cv2.GaussianBlur(gray, (3, 3), 0)\n",
    "wide = cv2.Canny(blurred, 10, 200)\n",
    "tight = cv2.Canny(blurred, 225, 250)\n",
    "auto = auto_canny(blurred)\n",
    "\n",
    "plt.figure()\n",
    "plt.imshow(wide)\n",
    "plt.figure()\n",
    "plt.imshow(tight)\n",
    "plt.figure()\n",
    "plt.imshow(auto)\n"
   ]
  },
  {
   "cell_type": "code",
   "execution_count": null,
   "metadata": {},
   "outputs": [],
   "source": []
  }
 ],
 "metadata": {
  "kernelspec": {
   "display_name": "Python 3",
   "language": "python",
   "name": "python3"
  },
  "language_info": {
   "codemirror_mode": {
    "name": "ipython",
    "version": 3
   },
   "file_extension": ".py",
   "mimetype": "text/x-python",
   "name": "python",
   "nbconvert_exporter": "python",
   "pygments_lexer": "ipython3",
   "version": "3.8.5"
  }
 },
 "nbformat": 4,
 "nbformat_minor": 4
}
